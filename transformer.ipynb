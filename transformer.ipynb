{
  "cells": [
    {
      "cell_type": "code",
      "execution_count": 2,
      "metadata": {
        "colab": {
          "base_uri": "https://localhost:8080/"
        },
        "id": "3qauobDu7aFi",
        "outputId": "ac2d8063-d2e2-4519-e446-38b4f502b4d9"
      },
      "outputs": [
        {
          "name": "stdout",
          "output_type": "stream",
          "text": [
            "Currently available device is:  cuda\n",
            "Downloading the Wikitext dataset for pretraining\n"
          ]
        },
        {
          "data": {
            "text/plain": [
              "['./wikitext-103/wiki.test.tokens',\n",
              " './wikitext-103/wiki.valid.tokens',\n",
              " './wikitext-103/wiki.train.tokens']"
            ]
          },
          "execution_count": 2,
          "metadata": {},
          "output_type": "execute_result"
        }
      ],
      "source": [
        "import torchtext\n",
        "from torchtext.data import functional as textF\n",
        "from torch import nn, Tensor\n",
        "from typing import Tuple\n",
        "import os\n",
        "import math\n",
        "import torch\n",
        "from torch import Tensor\n",
        "import torch.nn as nn\n",
        "from torch.nn import TransformerEncoder, TransformerEncoderLayer\n",
        "\n",
        "import torch.optim as optim\n",
        "import torch.utils.data as data\n",
        "import math\n",
        "import copy\n",
        "\n",
        "import time\n",
        "from tqdm import trange, tqdm\n",
        "import torch.nn.functional as F\n",
        "\n",
        "\n",
        "import os\n",
        "from tempfile import TemporaryDirectory\n",
        "\n",
        "device = torch.device('cuda' if torch.cuda.is_available() else 'cpu')\n",
        "print(\"Currently available device is: \", device)\n",
        "\n",
        "print(\"Downloading the Wikitext dataset for pretraining\")\n",
        "url_wiki = 'https://s3.amazonaws.com/research.metamind.io/wikitext/wikitext-103-v1.zip'\n",
        "torchtext.utils.download_from_url(url_wiki)\n",
        "torchtext.utils.extract_archive('/content/.data/wikitext-103-v1.zip', './')"
      ]
    },
    {
      "cell_type": "code",
      "execution_count": 3,
      "metadata": {
        "id": "bl3-iska7i4E"
      },
      "outputs": [],
      "source": [
        "sp_model = textF.generate_sp_model('./wikitext-103/wiki.train.tokens', vocab_size = 50000, model_type='bpe', model_prefix = 'spm')\n",
        "sp_model = textF.load_sp_model(\"/content/spm.model\")"
      ]
    },
    {
      "cell_type": "code",
      "execution_count": 4,
      "metadata": {
        "id": "v_L7Vfgp8A_P"
      },
      "outputs": [],
      "source": [
        "class Corpus(object):\n",
        "    def __init__(self, path, tokenizer_model):\n",
        "        self.tokenizer = textF.sentencepiece_tokenizer(tokenizer_model)\n",
        "        self.numericalizer = textF.sentencepiece_numericalizer(tokenizer_model)\n",
        "        self.train = self.numericalize(os.path.join(path, 'wiki.train.tokens'))\n",
        "        self.valid = self.numericalize(os.path.join(path, 'wiki.valid.tokens'))\n",
        "\n",
        "    def flatten_extend(self, matrix):\n",
        "        flat_list = []\n",
        "        for row in matrix:\n",
        "            flat_list.extend(row)\n",
        "        return flat_list\n",
        "\n",
        "    def numericalize(self, path):\n",
        "        assert os.path.exists(path)\n",
        "        tok_lines = []\n",
        "        max_tok = 1000000\n",
        "        with open(path, 'r', encoding=\"utf8\") as f:\n",
        "            num_tok = 0\n",
        "            for i, line in tqdm(list(enumerate(f.readlines()))):\n",
        "                toks = list(self.numericalizer([line]))\n",
        "                toks = toks[0]\n",
        "                tok_lines.append(toks)\n",
        "                num_tok += len(toks)\n",
        "                if num_tok > max_tok:\n",
        "                    break\n",
        "        return torch.tensor(self.flatten_extend(tok_lines))\n",
        "\n",
        "def random_batch_sampler(tokens, device, batch_size, seq_len):\n",
        "    n_tokens = tokens.shape[0]\n",
        "    while True:\n",
        "        start_indices = torch.randint(0, n_tokens - seq_len + 1, (batch_size,))\n",
        "        sequences = torch.stack([tokens[start:start + seq_len] for start in start_indices])\n",
        "        yield sequences.to(device)\n",
        "\n",
        "\n",
        "def sequential_batch_sampler(tokens, device, batch_size, seq_len):\n",
        "    n_tokens = tokens.shape[0]\n",
        "    total_len = batch_size * seq_len\n",
        "\n",
        "    for i in range(0, n_tokens - total_len + 1, total_len):\n",
        "        batch = tokens[i:i + total_len].view(batch_size, seq_len)\n",
        "        yield batch.to(device)"
      ]
    },
    {
      "cell_type": "code",
      "execution_count": 5,
      "metadata": {
        "colab": {
          "base_uri": "https://localhost:8080/"
        },
        "id": "Y_tpZnY0IZ0N",
        "outputId": "98e0d8fb-cc1b-4f1d-adfb-eae030c03903"
      },
      "outputs": [
        {
          "name": "stderr",
          "output_type": "stream",
          "text": [
            "  1%|          | 16550/1801350 [00:04<07:54, 3763.37it/s]\n",
            "100%|██████████| 3760/3760 [00:01<00:00, 3305.05it/s]\n"
          ]
        }
      ],
      "source": [
        "corpus = Corpus(\"/content/wikitext-103\", sp_model)"
      ]
    },
    {
      "cell_type": "code",
      "execution_count": 6,
      "metadata": {
        "id": "35jh1LJnkS2w"
      },
      "outputs": [],
      "source": [
        "batch_size = 32\n",
        "seq_len = 65\n",
        "\n",
        "train_sampler = random_batch_sampler(corpus.train, device, batch_size, seq_len)\n",
        "val_sampler = sequential_batch_sampler(corpus.valid, device, batch_size, seq_len)"
      ]
    },
    {
      "cell_type": "code",
      "execution_count": 7,
      "metadata": {
        "id": "lvWY8HiFlFvJ"
      },
      "outputs": [],
      "source": [
        "class MultiHeadAttention(nn.Module):\n",
        "    def __init__(self, d_model, num_heads):\n",
        "        super(MultiHeadAttention, self).__init__()\n",
        "        # Ensure that the model dimension (d_model) is divisible by the number of heads\n",
        "        assert d_model % num_heads == 0, \"d_model must be divisible by num_heads\"\n",
        "\n",
        "        # Initialize dimensions\n",
        "        self.d_model = d_model # Model's dimension\n",
        "        self.num_heads = num_heads # Number of attention heads\n",
        "        self.d_k = d_model // num_heads # Dimension of each head's key, query, and value\n",
        "\n",
        "        # Linear layers for transforming inputs\n",
        "\n",
        "        self.W_q = nn.Linear(d_model, d_model).to(device) # Query transformation\n",
        "        self.W_k = nn.Linear(d_model, d_model).to(device) # Key transformation\n",
        "        self.W_v = nn.Linear(d_model, d_model).to(device) # Value transformation\n",
        "\n",
        "        self.W_o = nn.Linear(d_model, d_model).to(device) # Output transformation\n",
        "\n",
        "    def scaled_dot_product_attention(self, Q, K, V, mask=None):\n",
        "        # Calculate attention scores\n",
        "\n",
        "        attn_scores = torch.matmul(Q, K.transpose(-2, -1)) / math.sqrt(self.d_k)\n",
        "\n",
        "        # Apply mask if provided (useful for preventing attention to certain parts like padding)\n",
        "        if mask is not None:\n",
        "            attn_scores = attn_scores.masked_fill(mask == 0, -1e9)\n",
        "\n",
        "        # Softmax is applied to obtain attention probabilities\n",
        "        attn_probs = torch.softmax(attn_scores, dim=-1)\n",
        "\n",
        "        output = torch.matmul(attn_probs, V)\n",
        "        return output\n",
        "\n",
        "    def split_heads(self, x):\n",
        "        # Reshape the input to have num_heads for multi-head attention\n",
        "        batch_size, seq_length, d_model = x.size()\n",
        "        return x.view(batch_size, seq_length, self.num_heads, self.d_k).transpose(1, 2)\n",
        "\n",
        "    def combine_heads(self, x):\n",
        "        # Combine the multiple heads back to original shape\n",
        "        batch_size, _, seq_length, d_k = x.size()\n",
        "        return x.transpose(1, 2).contiguous().view(batch_size, seq_length, self.d_model)\n",
        "\n",
        "    def forward(self, Q, K, V, mask=None):\n",
        "        # Apply linear transformations and split heads\n",
        "        Q = self.split_heads(self.W_q(Q))\n",
        "        K = self.split_heads(self.W_k(K))\n",
        "        V = self.split_heads(self.W_v(V))\n",
        "\n",
        "        # Perform scaled dot-product attention\n",
        "\n",
        "        attn_output = self.scaled_dot_product_attention(Q, K, V, mask)\n",
        "\n",
        "        # Combine heads and apply output transformation\n",
        "        output = self.W_o(self.combine_heads(attn_output))\n",
        "        return output\n",
        "\n",
        "class PositionWiseFeedForward(nn.Module):\n",
        "    def __init__(self, d_model, d_ff):\n",
        "        super(PositionWiseFeedForward, self).__init__()\n",
        "        self.fc1 = nn.Linear(d_model, d_ff).to(device)\n",
        "        self.fc2 = nn.Linear(d_ff, d_model).to(device)\n",
        "        self.relu = nn.ReLU().to(device)\n",
        "\n",
        "    def forward(self, x):\n",
        "        return self.fc2(self.relu(self.fc1(x)))\n",
        "\n",
        "\n",
        "class PositionalEncoding(nn.Module):\n",
        "    def __init__(self, embed_dim, max_len=5000, dropout=0.1):\n",
        "        super().__init__()\n",
        "        self.encoding = nn.Embedding(max_len, embed_dim)\n",
        "        self.dropout = nn.Dropout(dropout)\n",
        "\n",
        "    def forward(self, x):\n",
        "        N, S, D = x.shape\n",
        "        positions = torch.arange(S).expand((N, -1)).to(x.device)\n",
        "        encoded_positions = self.encoding(positions)\n",
        "        output = x + encoded_positions\n",
        "        output = self.dropout(output)\n",
        "        return output\n",
        "\n",
        "class DecoderLayer(nn.Module):\n",
        "    def __init__(self, d_model, num_heads, d_ff, dropout):\n",
        "        super(DecoderLayer, self).__init__()\n",
        "\n",
        "        self.self_attn = MultiHeadAttention(d_model, num_heads)\n",
        "\n",
        "        self.feed_forward = PositionWiseFeedForward(d_model, d_ff)\n",
        "\n",
        "        self.norm1 = nn.LayerNorm(normalized_shape=d_model)\n",
        "        self.norm2 = nn.LayerNorm(normalized_shape=d_model)\n",
        "\n",
        "        self.dropout = nn.Dropout(dropout).to(device)\n",
        "\n",
        "    def forward(self, x, mask):\n",
        "\n",
        "        attn_output = self.self_attn(x, x, x, mask)\n",
        "\n",
        "        x = self.norm1(x + self.dropout(attn_output))\n",
        "        ff_output = self.feed_forward(x)\n",
        "        x = self.norm2(x + self.dropout(ff_output))\n",
        "        return x\n",
        "\n",
        "class Transformer(nn.Module):\n",
        "    def __init__(self, src_vocab_size, tgt_vocab_size, d_model, num_heads, num_layers, d_ff, max_seq_length, dropout, device='cuda'):\n",
        "        super(Transformer, self).__init__()\n",
        "        self.embedding = nn.Embedding(src_vocab_size, d_model).to(device)\n",
        "        self.positional_encoding = PositionalEncoding(d_model, max_seq_length)\n",
        "\n",
        "        self.layers = nn.ModuleList([DecoderLayer(d_model, num_heads, d_ff, dropout) for _ in range(num_layers)])\n",
        "\n",
        "        self.fc = nn.Linear(d_model, tgt_vocab_size).to(device)\n",
        "        self.dropout = nn.Dropout(dropout).to(device)\n",
        "\n",
        "        self.device = device\n",
        "        self.to(device)\n",
        "\n",
        "    def generate_mask(self, src):\n",
        "        shape = src.shape[-1]\n",
        "        a = torch.ones(shape, shape)\n",
        "        mask = torch.tril(a).to(self.device)\n",
        "        return mask\n",
        "\n",
        "    def forward(self, src):\n",
        "        src_mask = self.generate_mask(src)\n",
        "        src_embedded = self.dropout(self.positional_encoding(self.embedding(src)))\n",
        "        enc_output = src_embedded\n",
        "        for layer in self.layers:\n",
        "            enc_output = layer(enc_output, src_mask)\n",
        "\n",
        "        return self.fc(enc_output)"
      ]
    },
    {
      "cell_type": "code",
      "execution_count": 8,
      "metadata": {
        "id": "VkUVHCb_P9rr"
      },
      "outputs": [],
      "source": [
        "#HYPERPARAMETERS FOR PRETRAINING\n",
        "\n",
        "src_vocab_size = 50000\n",
        "tgt_vocab_size = 50000\n",
        "d_model = 300\n",
        "num_heads = 2\n",
        "num_layers = 3\n",
        "d_ff = 300\n",
        "max_seq_length = 65\n",
        "dropout = 0.1\n",
        "\n",
        "model = Transformer(src_vocab_size, tgt_vocab_size, d_model, num_heads, num_layers, d_ff, max_seq_length, dropout)\n",
        "\n",
        "criterion = nn.CrossEntropyLoss()\n",
        "optimizer = torch.optim.Adam(model.parameters(), lr=0.001)"
      ]
    },
    {
      "cell_type": "code",
      "execution_count": 9,
      "metadata": {
        "id": "5a8IL4-vQOoK"
      },
      "outputs": [],
      "source": [
        "def compute_loss(data, logits):\n",
        "    labels = data[:,1:]\n",
        "    logits = logits[:,:-1]\n",
        "    labels = labels.reshape(-1)\n",
        "    logits = logits.reshape(-1, logits.size(-1))\n",
        "    loss = F.cross_entropy(logits, labels)\n",
        "    return loss\n",
        "\n",
        "def train(model: nn.Module) -> float:\n",
        "    model.train()  # turn on train mode\n",
        "    iter_start_time = time.time()\n",
        "    total_loss = 0.\n",
        "    cnt = 0\n",
        "    iters_loss = 0.\n",
        "\n",
        "    for step in (pbar := trange(len(corpus.train) // batch_size)):\n",
        "        data = next(train_sampler)\n",
        "        output = model(data.to(device))\n",
        "\n",
        "        loss = compute_loss(data, output)\n",
        "\n",
        "        optimizer.zero_grad()\n",
        "        loss.backward()\n",
        "        torch.nn.utils.clip_grad_norm_(model.parameters(), 0.5)\n",
        "        optimizer.step()\n",
        "\n",
        "        total_loss += loss.item()\n",
        "        iters_loss += loss.item()\n",
        "        if cnt % 2000 == 0 and cnt > 0:\n",
        "            train_loss = iters_loss / 2000\n",
        "            train_ppl = math.exp(train_loss)\n",
        "            elapsed = time.time() - iter_start_time\n",
        "            print('\\n' + '-' * 100)\n",
        "            print(f'| iteration {cnt:5d} | time elapsed : {elapsed:5.2f}s | '\n",
        "                f'train loss {train_loss:5.3f} | train perplexity {train_ppl:8.3f} | ')\n",
        "            print('-' * 100)\n",
        "            iters_loss = 0.\n",
        "        cnt += 1\n",
        "\n",
        "    return total_loss / cnt\n",
        "\n",
        "def evaluate(model: nn.Module) -> float:\n",
        "    model.eval()  # turn on evaluation mode\n",
        "    total_loss = 0.\n",
        "    cnt = 0\n",
        "    val_sampler = sequential_batch_sampler(corpus.valid, device, batch_size, seq_len)\n",
        "    with torch.no_grad():\n",
        "        for data in (pbar := tqdm(val_sampler, desc=\"Evaluating..\")):\n",
        "            output = model(data.to(device))\n",
        "            loss = compute_loss(data, output)\n",
        "            total_loss += loss.item()\n",
        "            cnt += 1\n",
        "\n",
        "    return total_loss / cnt"
      ]
    },
    {
      "cell_type": "code",
      "execution_count": 10,
      "metadata": {
        "colab": {
          "base_uri": "https://localhost:8080/"
        },
        "id": "bBi97cETQQl-",
        "outputId": "c187230f-9b1c-474e-f645-6e9eb27ff7d7"
      },
      "outputs": [
        {
          "name": "stderr",
          "output_type": "stream",
          "text": [
            "  6%|▋         | 2002/31252 [03:52<57:54,  8.42it/s]"
          ]
        },
        {
          "name": "stdout",
          "output_type": "stream",
          "text": [
            "\n",
            "----------------------------------------------------------------------------------------------------\n",
            "| iteration  2000 | time elapsed : 232.32s | train loss 5.708 | train perplexity  301.337 | \n",
            "----------------------------------------------------------------------------------------------------\n"
          ]
        },
        {
          "name": "stderr",
          "output_type": "stream",
          "text": [
            " 13%|█▎        | 4002/31252 [07:48<53:50,  8.43it/s]"
          ]
        },
        {
          "name": "stdout",
          "output_type": "stream",
          "text": [
            "\n",
            "----------------------------------------------------------------------------------------------------\n",
            "| iteration  4000 | time elapsed : 468.28s | train loss 4.392 | train perplexity   80.771 | \n",
            "----------------------------------------------------------------------------------------------------\n"
          ]
        },
        {
          "name": "stderr",
          "output_type": "stream",
          "text": [
            " 19%|█▉        | 6002/31252 [11:44<49:44,  8.46it/s]"
          ]
        },
        {
          "name": "stdout",
          "output_type": "stream",
          "text": [
            "\n",
            "----------------------------------------------------------------------------------------------------\n",
            "| iteration  6000 | time elapsed : 704.46s | train loss 3.821 | train perplexity   45.649 | \n",
            "----------------------------------------------------------------------------------------------------\n"
          ]
        },
        {
          "name": "stderr",
          "output_type": "stream",
          "text": [
            " 26%|██▌       | 8002/31252 [15:40<45:53,  8.44it/s]"
          ]
        },
        {
          "name": "stdout",
          "output_type": "stream",
          "text": [
            "\n",
            "----------------------------------------------------------------------------------------------------\n",
            "| iteration  8000 | time elapsed : 940.79s | train loss 3.479 | train perplexity   32.442 | \n",
            "----------------------------------------------------------------------------------------------------\n"
          ]
        },
        {
          "name": "stderr",
          "output_type": "stream",
          "text": [
            " 32%|███▏      | 10002/31252 [19:37<41:51,  8.46it/s]"
          ]
        },
        {
          "name": "stdout",
          "output_type": "stream",
          "text": [
            "\n",
            "----------------------------------------------------------------------------------------------------\n",
            "| iteration 10000 | time elapsed : 1177.51s | train loss 3.240 | train perplexity   25.531 | \n",
            "----------------------------------------------------------------------------------------------------\n"
          ]
        },
        {
          "name": "stderr",
          "output_type": "stream",
          "text": [
            " 38%|███▊      | 12002/31252 [23:33<38:21,  8.36it/s]"
          ]
        },
        {
          "name": "stdout",
          "output_type": "stream",
          "text": [
            "\n",
            "----------------------------------------------------------------------------------------------------\n",
            "| iteration 12000 | time elapsed : 1413.77s | train loss 3.071 | train perplexity   21.557 | \n",
            "----------------------------------------------------------------------------------------------------\n"
          ]
        },
        {
          "name": "stderr",
          "output_type": "stream",
          "text": [
            " 45%|████▍     | 14002/31252 [27:29<33:32,  8.57it/s]"
          ]
        },
        {
          "name": "stdout",
          "output_type": "stream",
          "text": [
            "\n",
            "----------------------------------------------------------------------------------------------------\n",
            "| iteration 14000 | time elapsed : 1649.77s | train loss 2.934 | train perplexity   18.801 | \n",
            "----------------------------------------------------------------------------------------------------\n"
          ]
        },
        {
          "name": "stderr",
          "output_type": "stream",
          "text": [
            " 51%|█████     | 16002/31252 [31:26<29:53,  8.50it/s]"
          ]
        },
        {
          "name": "stdout",
          "output_type": "stream",
          "text": [
            "\n",
            "----------------------------------------------------------------------------------------------------\n",
            "| iteration 16000 | time elapsed : 1886.07s | train loss 2.819 | train perplexity   16.762 | \n",
            "----------------------------------------------------------------------------------------------------\n"
          ]
        },
        {
          "name": "stderr",
          "output_type": "stream",
          "text": [
            " 58%|█████▊    | 18002/31252 [35:22<26:15,  8.41it/s]"
          ]
        },
        {
          "name": "stdout",
          "output_type": "stream",
          "text": [
            "\n",
            "----------------------------------------------------------------------------------------------------\n",
            "| iteration 18000 | time elapsed : 2122.48s | train loss 2.717 | train perplexity   15.140 | \n",
            "----------------------------------------------------------------------------------------------------\n"
          ]
        },
        {
          "name": "stderr",
          "output_type": "stream",
          "text": [
            " 64%|██████▍   | 20002/31252 [39:18<22:04,  8.49it/s]"
          ]
        },
        {
          "name": "stdout",
          "output_type": "stream",
          "text": [
            "\n",
            "----------------------------------------------------------------------------------------------------\n",
            "| iteration 20000 | time elapsed : 2358.64s | train loss 2.636 | train perplexity   13.954 | \n",
            "----------------------------------------------------------------------------------------------------\n"
          ]
        },
        {
          "name": "stderr",
          "output_type": "stream",
          "text": [
            " 70%|███████   | 22002/31252 [43:14<18:15,  8.45it/s]"
          ]
        },
        {
          "name": "stdout",
          "output_type": "stream",
          "text": [
            "\n",
            "----------------------------------------------------------------------------------------------------\n",
            "| iteration 22000 | time elapsed : 2594.85s | train loss 2.551 | train perplexity   12.824 | \n",
            "----------------------------------------------------------------------------------------------------\n"
          ]
        },
        {
          "name": "stderr",
          "output_type": "stream",
          "text": [
            " 77%|███████▋  | 24002/31252 [47:11<13:59,  8.63it/s]"
          ]
        },
        {
          "name": "stdout",
          "output_type": "stream",
          "text": [
            "\n",
            "----------------------------------------------------------------------------------------------------\n",
            "| iteration 24000 | time elapsed : 2831.40s | train loss 2.482 | train perplexity   11.961 | \n",
            "----------------------------------------------------------------------------------------------------\n"
          ]
        },
        {
          "name": "stderr",
          "output_type": "stream",
          "text": [
            " 83%|████████▎ | 26002/31252 [51:07<10:20,  8.46it/s]"
          ]
        },
        {
          "name": "stdout",
          "output_type": "stream",
          "text": [
            "\n",
            "----------------------------------------------------------------------------------------------------\n",
            "| iteration 26000 | time elapsed : 3067.17s | train loss 2.408 | train perplexity   11.111 | \n",
            "----------------------------------------------------------------------------------------------------\n"
          ]
        },
        {
          "name": "stderr",
          "output_type": "stream",
          "text": [
            " 90%|████████▉ | 28002/31252 [55:03<06:23,  8.48it/s]"
          ]
        },
        {
          "name": "stdout",
          "output_type": "stream",
          "text": [
            "\n",
            "----------------------------------------------------------------------------------------------------\n",
            "| iteration 28000 | time elapsed : 3303.09s | train loss 2.346 | train perplexity   10.442 | \n",
            "----------------------------------------------------------------------------------------------------\n"
          ]
        },
        {
          "name": "stderr",
          "output_type": "stream",
          "text": [
            " 96%|█████████▌| 30002/31252 [58:59<02:27,  8.45it/s]"
          ]
        },
        {
          "name": "stdout",
          "output_type": "stream",
          "text": [
            "\n",
            "----------------------------------------------------------------------------------------------------\n",
            "| iteration 30000 | time elapsed : 3539.33s | train loss 2.289 | train perplexity    9.861 | \n",
            "----------------------------------------------------------------------------------------------------\n"
          ]
        },
        {
          "name": "stderr",
          "output_type": "stream",
          "text": [
            "100%|██████████| 31252/31252 [1:01:27<00:00,  8.48it/s]\n",
            "Evaluating..: 111it [00:03, 28.89it/s]\n"
          ]
        },
        {
          "name": "stdout",
          "output_type": "stream",
          "text": [
            "--------------------------------------------------------------------------------------------------------------------\n",
            "| end of epoch | time elasped: 3690.93s | train loss 3.091 | train perplexity   21.991 | valid loss 8.466 | valid perplexity 4751.479 |\n",
            "--------------------------------------------------------------------------------------------------------------------\n",
            "saving the pretrained model\n"
          ]
        }
      ],
      "source": [
        "# START TRAINING. The reference implementation takes around 1 hour to complete training.\n",
        "\n",
        "epoch_start_time = time.time()\n",
        "train_loss = train(model)\n",
        "train_ppl = math.exp(train_loss)\n",
        "val_loss = evaluate(model)\n",
        "val_ppl = math.exp(val_loss)\n",
        "elapsed = time.time() - epoch_start_time\n",
        "\n",
        "print('-' * 116)\n",
        "print(f'| end of epoch | time elasped: {elapsed:5.2f}s | '\n",
        "    f'train loss {train_loss:5.3f} | train perplexity {train_ppl:8.3f} | '\n",
        "    f'valid loss {val_loss:5.3f} | valid perplexity {val_ppl:8.3f} |')\n",
        "print('-' * 116)\n",
        "\n",
        "print(\"saving the pretrained model\")\n",
        "torch.save(model.state_dict(), \"pretrained.pt\")"
      ]
    },
    {
      "cell_type": "code",
      "execution_count": 38,
      "metadata": {
        "colab": {
          "base_uri": "https://localhost:8080/",
          "height": 472
        },
        "id": "Ka7-BvS_seOS",
        "outputId": "30eec154-87ad-40d8-83f6-afc90e1f2b17"
      },
      "outputs": [
        {
          "data": {
            "image/png": "[encoded data removed]",
            "text/plain": [
              "<Figure size 640x480 with 1 Axes>"
            ]
          },
          "metadata": {},
          "output_type": "display_data"
        }
      ],
      "source": [
        "import matplotlib.pyplot as plt\n",
        "iterations = [2000, 4000, 6000, 8000, 10000, 12000, 14000, 16000, 18000, 20000, 22000, 24000, 26000, 28000, 30000]\n",
        "training_loss = [5.708, 4.392, 3.821, 3.479, 3.240, 3.071, 2.934, 2.819, 2.717 , 2.636, 2.551, 2.482, 2.408, 2.346, 2.289]\n",
        "plt.plot(iterations, training_loss, label=' Training loss Vs Iterations')\n",
        "plt.title('Training loss Vs Number of iterations')\n",
        "plt.xlabel('Number of Iterations')\n",
        "plt.ylabel('Training loss')\n",
        "plt.show()"
      ]
    },
    {
      "cell_type": "code",
      "execution_count": 12,
      "metadata": {
        "colab": {
          "base_uri": "https://localhost:8080/"
        },
        "id": "9Hb0JQixnAIG",
        "outputId": "3f7c217d-7aaf-44c4-d4fd-d53b6cdd58cf"
      },
      "outputs": [
        {
          "name": "stdout",
          "output_type": "stream",
          "text": [
            "Transformer(\n",
            "  (embedding): Embedding(50000, 300)\n",
            "  (positional_encoding): PositionalEncoding(\n",
            "    (encoding): Embedding(65, 300)\n",
            "    (dropout): Dropout(p=0.1, inplace=False)\n",
            "  )\n",
            "  (layers): ModuleList(\n",
            "    (0-2): 3 x DecoderLayer(\n",
            "      (self_attn): MultiHeadAttention(\n",
            "        (W_q): Linear(in_features=300, out_features=300, bias=True)\n",
            "        (W_k): Linear(in_features=300, out_features=300, bias=True)\n",
            "        (W_v): Linear(in_features=300, out_features=300, bias=True)\n",
            "        (W_o): Linear(in_features=300, out_features=300, bias=True)\n",
            "      )\n",
            "      (feed_forward): PositionWiseFeedForward(\n",
            "        (fc1): Linear(in_features=300, out_features=300, bias=True)\n",
            "        (fc2): Linear(in_features=300, out_features=300, bias=True)\n",
            "        (relu): ReLU()\n",
            "      )\n",
            "      (norm1): LayerNorm((300,), eps=1e-05, elementwise_affine=True)\n",
            "      (norm2): LayerNorm((300,), eps=1e-05, elementwise_affine=True)\n",
            "      (dropout): Dropout(p=0.1, inplace=False)\n",
            "    )\n",
            "  )\n",
            "  (fc): Linear(in_features=300, out_features=50000, bias=True)\n",
            "  (dropout): Dropout(p=0.1, inplace=False)\n",
            ")\n"
          ]
        }
      ],
      "source": [
        "print(model)"
      ]
    },
    {
      "cell_type": "code",
      "execution_count": 26,
      "metadata": {
        "colab": {
          "base_uri": "https://localhost:8080/"
        },
        "id": "IOtSllAqTdBU",
        "outputId": "695bb9d5-143f-4f25-94f6-13150015f489"
      },
      "outputs": [
        {
          "name": "stdout",
          "output_type": "stream",
          "text": [
            "Mounted at /content/gdrive\n"
          ]
        }
      ],
      "source": [
        "from google.colab import drive\n",
        "drive.mount('/content/gdrive')"
      ]
    },
    {
      "cell_type": "code",
      "execution_count": null,
      "metadata": {
        "colab": {
          "base_uri": "https://localhost:8080/"
        },
        "id": "jZ2yLeP8TxpE",
        "outputId": "e528b46c-6a65-4410-d4cd-73b3eb83cf52"
      },
      "outputs": [],
      "source": [
        "model_save_name = 'pretrained.pt'\n",
        "path = F\"/content/gdrive/MyDrive/{model_save_name}\"\n",
        "torch.save(model.state_dict(), path)"
      ]
    },
    {
      "cell_type": "code",
      "execution_count": 41,
      "metadata": {
        "colab": {
          "base_uri": "https://localhost:8080/"
        },
        "id": "l4ZnsX9O8V1F",
        "outputId": "06acb823-0d9b-4b71-8bc4-843943a49e80"
      },
      "outputs": [
        {
          "name": "stderr",
          "output_type": "stream",
          "text": [
            "[nltk_data] Downloading package movie_reviews to /root/nltk_data...\n",
            "[nltk_data]   Package movie_reviews is already up-to-date!\n"
          ]
        }
      ],
      "source": [
        "import nltk\n",
        "nltk.download('movie_reviews')\n",
        "\n",
        "from nltk.corpus import movie_reviews\n",
        "from torch.nn import functional as F\n",
        "import random\n",
        "\n",
        "documents = [(' '.join(movie_reviews.words(fileid)), category)\n",
        "             for category in movie_reviews.categories()\n",
        "             for fileid in movie_reviews.fileids(category)]"
      ]
    },
    {
      "cell_type": "code",
      "execution_count": 42,
      "metadata": {
        "id": "Kiv16MHY-u9c"
      },
      "outputs": [],
      "source": [
        "def train_test_split(documents, num_samples):\n",
        "    i = num_samples // 2\n",
        "    neg_train = documents[:i]\n",
        "    pos_train = documents[-i:]\n",
        "    train = neg_train + pos_train\n",
        "    test = documents[i:-i]\n",
        "    random.shuffle(train)\n",
        "    random.shuffle(test)\n",
        "    return train, test\n",
        "\n",
        "sentiment_maxtokens = 64\n",
        "\n",
        "class TextDataset(torch.utils.data.Dataset):\n",
        "\n",
        "  def __init__(self, input_data, tokenizer_model):\n",
        "      self.text = [t for (t, l) in input_data]\n",
        "      self.label = [1 if l == 'pos' else 0 for (t, l) in input_data]\n",
        "      self.tokenizer = textF.sentencepiece_tokenizer(tokenizer_model)\n",
        "      self.numericalizer = textF.sentencepiece_numericalizer(tokenizer_model)\n",
        "      self.numerictext = list(self.numericalizer(self.text))\n",
        "\n",
        "  def __len__(self):\n",
        "      return len(self.label)\n",
        "\n",
        "  def get_sequence_token(self, idx):\n",
        "      sequence = self.numerictext[idx]\n",
        "      len_seq = len(sequence)\n",
        "      return sequence, len_seq\n",
        "\n",
        "  def get_labels(self, idx):\n",
        "      return self.label[idx]\n",
        "\n",
        "  def __getitem__(self, idx):\n",
        "      sequence, len_seq = self.get_sequence_token(idx)\n",
        "      label = self.get_labels(idx)\n",
        "      return sequence, label, len_seq\n",
        "\n",
        "def collate_fn(batch):\n",
        "    bs = len(batch)\n",
        "    sequences, labels, lengths = zip(*batch)\n",
        "    trunc_seqs = torch.zeros((bs, sentiment_maxtokens), dtype = torch.long)\n",
        "\n",
        "    for i in range(len(batch)):\n",
        "        if len(sequences[i]) < sentiment_maxtokens:\n",
        "            trunc_seqs[i][:len(sequences[i])] = torch.tensor(sequences[i], dtype = torch.long)\n",
        "        else:\n",
        "            trunc_seqs[i] = torch.tensor(torchtext.functional.truncate(sequences[i], sentiment_maxtokens), dtype = torch.long)\n",
        "    labels = torch.tensor(labels, dtype=torch.long)\n",
        "    return trunc_seqs, labels"
      ]
    },
    {
      "cell_type": "code",
      "execution_count": 43,
      "metadata": {
        "id": "dxHGG_RyZeN-"
      },
      "outputs": [],
      "source": [
        "#HYPERPARAMETERS FOR FINETUNING TASK WITHOUT PRETRAINING\n",
        "\n",
        "src_vocab_size = 50000\n",
        "tgt_vocab_size = 50000\n",
        "d_model = 300\n",
        "num_heads = 2\n",
        "num_layers = 3\n",
        "d_ff = 300\n",
        "max_length = 256\n",
        "lr = 1e-4\n",
        "batch_size = 32\n",
        "finetune_epochs = 20\n",
        "\n",
        "sizes = [16, 32, 64, 128, 256, 512]"
      ]
    },
    {
      "cell_type": "code",
      "execution_count": 44,
      "metadata": {
        "id": "IG3ALVyWVOfY"
      },
      "outputs": [],
      "source": [
        "from torch.utils.data import DataLoader\n",
        "from tqdm import tqdm\n",
        "\n",
        "#Tranformer architecture for the finetuning task without pretraining\n",
        "\n",
        "class NoPretrainingTransformer(nn.Module):\n",
        "    def __init__(self, vocab_size, d_model, d_ff, num_heads, num_layers, max_length, num_classes = 2, dropout = 0.1, device = 'cuda'):\n",
        "        super().__init__()\n",
        "        self.embedding = nn.Embedding(vocab_size, d_model).to(device)\n",
        "        self.positional_encoding = PositionalEncoding(d_model, max_len = max_length)\n",
        "        self.fc = nn.Linear(d_model, num_classes)\n",
        "        self.layers = nn.ModuleList([DecoderLayer(d_model, num_heads, d_ff, dropout) for _ in range(num_layers)])\n",
        "        self.device = device\n",
        "        self.to(device)\n",
        "\n",
        "    def forward(self, src):\n",
        "        embedded = self.embedding(src)\n",
        "        output = self.positional_encoding(embedded)\n",
        "        for layer in self.layers:\n",
        "            output = layer(output, None)\n",
        "        output = output[:, -1]\n",
        "        output = self.fc(output)\n",
        "        return output\n",
        "\n",
        "def train_classifier(model, dataset, sp_model, epochs, lr, bs):\n",
        "    criterion = nn.CrossEntropyLoss()\n",
        "    optimizer = torch.optim.Adam((p for p in model.parameters() if p.requires_grad), lr=lr)\n",
        "    train_dataset = TextDataset(dataset, sp_model)\n",
        "    train_dataloader = DataLoader(train_dataset, num_workers=1, batch_size=bs, collate_fn=collate_fn, shuffle=True)\n",
        "\n",
        "    # Training loop\n",
        "    for epoch in range(epochs):\n",
        "        total_loss_train = 0\n",
        "        total_acc_train = 0\n",
        "        num_pos = 0\n",
        "        for train_sequence, labels in tqdm(train_dataloader):\n",
        "            predictions = model(train_sequence.to(device))\n",
        "            labels = labels.to(device)\n",
        "            loss = criterion(predictions, labels)\n",
        "\n",
        "            # Calculate accuracy and loss per batch\n",
        "            correct = predictions.argmax(axis=1) == labels\n",
        "            total_acc_train += correct.sum().item()\n",
        "            total_loss_train += loss.item()\n",
        "\n",
        "            # Backprop\n",
        "            loss.backward()\n",
        "            torch.nn.utils.clip_grad_norm_(model.parameters(), 0.5)\n",
        "            optimizer.step()\n",
        "\n",
        "        print(f'Epochs: {epoch + 1} | Loss: {total_loss_train / len(train_dataset): .3f} | Accuracy: {total_acc_train / len(train_dataset): .3f}')\n",
        "\n",
        "def eval_classifier(model, dataset, sp_model, bs):\n",
        "    criterion = nn.CrossEntropyLoss()\n",
        "    optimizer = torch.optim.Adam((p for p in model.parameters() if p.requires_grad), lr=lr)\n",
        "    test_dataset = TextDataset(dataset, sp_model)\n",
        "    test_dataloader = DataLoader(test_dataset, num_workers=1, batch_size=bs, collate_fn=collate_fn, shuffle=False)\n",
        "\n",
        "    total_acc_train = 0.\n",
        "    for sequence, labels in tqdm(test_dataloader):\n",
        "        predictions = model(sequence.to(device))\n",
        "        labels = labels.to(device)\n",
        "        correct = predictions.argmax(axis=1) == labels\n",
        "        total_acc_train += correct.sum().item()\n",
        "\n",
        "    return total_acc_train / len(test_dataset)"
      ]
    },
    {
      "cell_type": "code",
      "execution_count": 45,
      "metadata": {
        "id": "gpSP6wcym7OM"
      },
      "outputs": [],
      "source": [
        "without_PreTraining_list = []"
      ]
    },
    {
      "cell_type": "code",
      "execution_count": 46,
      "metadata": {
        "colab": {
          "base_uri": "https://localhost:8080/"
        },
        "id": "RkJ5fHMmvKO5",
        "outputId": "4c4e5273-67af-442e-9671-883f321b9d4f"
      },
      "outputs": [
        {
          "name": "stdout",
          "output_type": "stream",
          "text": [
            "--------------------------------------------------------\n",
            "Training on 16 samples\n",
            "--------------------------------------------------------\n"
          ]
        },
        {
          "name": "stderr",
          "output_type": "stream",
          "text": [
            "100%|██████████| 1/1 [00:00<00:00,  4.27it/s]\n"
          ]
        },
        {
          "name": "stdout",
          "output_type": "stream",
          "text": [
            "Epochs: 1 | Loss:  0.048 | Accuracy:  0.562\n"
          ]
        },
        {
          "name": "stderr",
          "output_type": "stream",
          "text": [
            "100%|██████████| 1/1 [00:00<00:00,  5.80it/s]\n"
          ]
        },
        {
          "name": "stdout",
          "output_type": "stream",
          "text": [
            "Epochs: 2 | Loss:  0.044 | Accuracy:  0.500\n"
          ]
        },
        {
          "name": "stderr",
          "output_type": "stream",
          "text": [
            "100%|██████████| 1/1 [00:00<00:00,  5.46it/s]\n"
          ]
        },
        {
          "name": "stdout",
          "output_type": "stream",
          "text": [
            "Epochs: 3 | Loss:  0.040 | Accuracy:  0.625\n"
          ]
        },
        {
          "name": "stderr",
          "output_type": "stream",
          "text": [
            "100%|██████████| 1/1 [00:00<00:00,  5.89it/s]\n"
          ]
        },
        {
          "name": "stdout",
          "output_type": "stream",
          "text": [
            "Epochs: 4 | Loss:  0.045 | Accuracy:  0.500\n"
          ]
        },
        {
          "name": "stderr",
          "output_type": "stream",
          "text": [
            "100%|██████████| 1/1 [00:00<00:00,  4.98it/s]\n"
          ]
        },
        {
          "name": "stdout",
          "output_type": "stream",
          "text": [
            "Epochs: 5 | Loss:  0.039 | Accuracy:  0.688\n"
          ]
        },
        {
          "name": "stderr",
          "output_type": "stream",
          "text": [
            "100%|██████████| 1/1 [00:00<00:00,  5.67it/s]\n"
          ]
        },
        {
          "name": "stdout",
          "output_type": "stream",
          "text": [
            "Epochs: 6 | Loss:  0.034 | Accuracy:  0.812\n"
          ]
        },
        {
          "name": "stderr",
          "output_type": "stream",
          "text": [
            "100%|██████████| 1/1 [00:00<00:00,  5.61it/s]\n"
          ]
        },
        {
          "name": "stdout",
          "output_type": "stream",
          "text": [
            "Epochs: 7 | Loss:  0.034 | Accuracy:  0.812\n"
          ]
        },
        {
          "name": "stderr",
          "output_type": "stream",
          "text": [
            "100%|██████████| 1/1 [00:00<00:00,  4.97it/s]\n"
          ]
        },
        {
          "name": "stdout",
          "output_type": "stream",
          "text": [
            "Epochs: 8 | Loss:  0.029 | Accuracy:  0.938\n"
          ]
        },
        {
          "name": "stderr",
          "output_type": "stream",
          "text": [
            "100%|██████████| 1/1 [00:00<00:00,  5.09it/s]\n"
          ]
        },
        {
          "name": "stdout",
          "output_type": "stream",
          "text": [
            "Epochs: 9 | Loss:  0.026 | Accuracy:  1.000\n"
          ]
        },
        {
          "name": "stderr",
          "output_type": "stream",
          "text": [
            "100%|██████████| 1/1 [00:00<00:00,  5.60it/s]\n"
          ]
        },
        {
          "name": "stdout",
          "output_type": "stream",
          "text": [
            "Epochs: 10 | Loss:  0.023 | Accuracy:  0.938\n"
          ]
        },
        {
          "name": "stderr",
          "output_type": "stream",
          "text": [
            "100%|██████████| 1/1 [00:00<00:00,  5.27it/s]\n"
          ]
        },
        {
          "name": "stdout",
          "output_type": "stream",
          "text": [
            "Epochs: 11 | Loss:  0.020 | Accuracy:  1.000\n"
          ]
        },
        {
          "name": "stderr",
          "output_type": "stream",
          "text": [
            "100%|██████████| 1/1 [00:00<00:00,  5.03it/s]\n"
          ]
        },
        {
          "name": "stdout",
          "output_type": "stream",
          "text": [
            "Epochs: 12 | Loss:  0.019 | Accuracy:  1.000\n"
          ]
        },
        {
          "name": "stderr",
          "output_type": "stream",
          "text": [
            "100%|██████████| 1/1 [00:00<00:00,  7.96it/s]\n"
          ]
        },
        {
          "name": "stdout",
          "output_type": "stream",
          "text": [
            "Epochs: 13 | Loss:  0.017 | Accuracy:  1.000\n"
          ]
        },
        {
          "name": "stderr",
          "output_type": "stream",
          "text": [
            "100%|██████████| 1/1 [00:00<00:00,  8.41it/s]\n"
          ]
        },
        {
          "name": "stdout",
          "output_type": "stream",
          "text": [
            "Epochs: 14 | Loss:  0.015 | Accuracy:  1.000\n"
          ]
        },
        {
          "name": "stderr",
          "output_type": "stream",
          "text": [
            "100%|██████████| 1/1 [00:00<00:00,  8.05it/s]\n"
          ]
        },
        {
          "name": "stdout",
          "output_type": "stream",
          "text": [
            "Epochs: 15 | Loss:  0.013 | Accuracy:  1.000\n"
          ]
        },
        {
          "name": "stderr",
          "output_type": "stream",
          "text": [
            "100%|██████████| 1/1 [00:00<00:00,  8.68it/s]\n"
          ]
        },
        {
          "name": "stdout",
          "output_type": "stream",
          "text": [
            "Epochs: 16 | Loss:  0.011 | Accuracy:  1.000\n"
          ]
        },
        {
          "name": "stderr",
          "output_type": "stream",
          "text": [
            "100%|██████████| 1/1 [00:00<00:00,  8.94it/s]\n"
          ]
        },
        {
          "name": "stdout",
          "output_type": "stream",
          "text": [
            "Epochs: 17 | Loss:  0.009 | Accuracy:  1.000\n"
          ]
        },
        {
          "name": "stderr",
          "output_type": "stream",
          "text": [
            "100%|██████████| 1/1 [00:00<00:00,  9.17it/s]\n"
          ]
        },
        {
          "name": "stdout",
          "output_type": "stream",
          "text": [
            "Epochs: 18 | Loss:  0.008 | Accuracy:  1.000\n"
          ]
        },
        {
          "name": "stderr",
          "output_type": "stream",
          "text": [
            "100%|██████████| 1/1 [00:00<00:00,  8.92it/s]\n"
          ]
        },
        {
          "name": "stdout",
          "output_type": "stream",
          "text": [
            "Epochs: 19 | Loss:  0.006 | Accuracy:  1.000\n"
          ]
        },
        {
          "name": "stderr",
          "output_type": "stream",
          "text": [
            "100%|██████████| 1/1 [00:00<00:00,  8.08it/s]\n"
          ]
        },
        {
          "name": "stdout",
          "output_type": "stream",
          "text": [
            "Epochs: 20 | Loss:  0.005 | Accuracy:  1.000\n",
            "--------------------------------------------------------\n",
            "Training on 32 samples\n",
            "--------------------------------------------------------\n"
          ]
        },
        {
          "name": "stderr",
          "output_type": "stream",
          "text": [
            "100%|██████████| 1/1 [00:00<00:00,  8.16it/s]\n"
          ]
        },
        {
          "name": "stdout",
          "output_type": "stream",
          "text": [
            "Epochs: 1 | Loss:  0.023 | Accuracy:  0.469\n"
          ]
        },
        {
          "name": "stderr",
          "output_type": "stream",
          "text": [
            "100%|██████████| 1/1 [00:00<00:00,  8.28it/s]\n"
          ]
        },
        {
          "name": "stdout",
          "output_type": "stream",
          "text": [
            "Epochs: 2 | Loss:  0.021 | Accuracy:  0.562\n"
          ]
        },
        {
          "name": "stderr",
          "output_type": "stream",
          "text": [
            "100%|██████████| 1/1 [00:00<00:00,  8.29it/s]\n"
          ]
        },
        {
          "name": "stdout",
          "output_type": "stream",
          "text": [
            "Epochs: 3 | Loss:  0.020 | Accuracy:  0.594\n"
          ]
        },
        {
          "name": "stderr",
          "output_type": "stream",
          "text": [
            "100%|██████████| 1/1 [00:00<00:00,  8.35it/s]\n"
          ]
        },
        {
          "name": "stdout",
          "output_type": "stream",
          "text": [
            "Epochs: 4 | Loss:  0.019 | Accuracy:  0.688\n"
          ]
        },
        {
          "name": "stderr",
          "output_type": "stream",
          "text": [
            "100%|██████████| 1/1 [00:00<00:00,  8.49it/s]\n"
          ]
        },
        {
          "name": "stdout",
          "output_type": "stream",
          "text": [
            "Epochs: 5 | Loss:  0.017 | Accuracy:  0.812\n"
          ]
        },
        {
          "name": "stderr",
          "output_type": "stream",
          "text": [
            "100%|██████████| 1/1 [00:00<00:00,  8.65it/s]\n"
          ]
        },
        {
          "name": "stdout",
          "output_type": "stream",
          "text": [
            "Epochs: 6 | Loss:  0.017 | Accuracy:  0.812\n"
          ]
        },
        {
          "name": "stderr",
          "output_type": "stream",
          "text": [
            "100%|██████████| 1/1 [00:00<00:00,  8.35it/s]\n"
          ]
        },
        {
          "name": "stdout",
          "output_type": "stream",
          "text": [
            "Epochs: 7 | Loss:  0.016 | Accuracy:  0.844\n"
          ]
        },
        {
          "name": "stderr",
          "output_type": "stream",
          "text": [
            "100%|██████████| 1/1 [00:00<00:00,  7.75it/s]\n"
          ]
        },
        {
          "name": "stdout",
          "output_type": "stream",
          "text": [
            "Epochs: 8 | Loss:  0.015 | Accuracy:  0.844\n"
          ]
        },
        {
          "name": "stderr",
          "output_type": "stream",
          "text": [
            "100%|██████████| 1/1 [00:00<00:00,  8.44it/s]\n"
          ]
        },
        {
          "name": "stdout",
          "output_type": "stream",
          "text": [
            "Epochs: 9 | Loss:  0.014 | Accuracy:  0.906\n"
          ]
        },
        {
          "name": "stderr",
          "output_type": "stream",
          "text": [
            "100%|██████████| 1/1 [00:00<00:00,  8.53it/s]\n"
          ]
        },
        {
          "name": "stdout",
          "output_type": "stream",
          "text": [
            "Epochs: 10 | Loss:  0.014 | Accuracy:  0.875\n"
          ]
        },
        {
          "name": "stderr",
          "output_type": "stream",
          "text": [
            "100%|██████████| 1/1 [00:00<00:00,  8.12it/s]\n"
          ]
        },
        {
          "name": "stdout",
          "output_type": "stream",
          "text": [
            "Epochs: 11 | Loss:  0.012 | Accuracy:  0.938\n"
          ]
        },
        {
          "name": "stderr",
          "output_type": "stream",
          "text": [
            "100%|██████████| 1/1 [00:00<00:00,  8.26it/s]\n"
          ]
        },
        {
          "name": "stdout",
          "output_type": "stream",
          "text": [
            "Epochs: 12 | Loss:  0.010 | Accuracy:  0.969\n"
          ]
        },
        {
          "name": "stderr",
          "output_type": "stream",
          "text": [
            "100%|██████████| 1/1 [00:00<00:00,  8.68it/s]\n"
          ]
        },
        {
          "name": "stdout",
          "output_type": "stream",
          "text": [
            "Epochs: 13 | Loss:  0.010 | Accuracy:  0.938\n"
          ]
        },
        {
          "name": "stderr",
          "output_type": "stream",
          "text": [
            "100%|██████████| 1/1 [00:00<00:00,  8.44it/s]\n"
          ]
        },
        {
          "name": "stdout",
          "output_type": "stream",
          "text": [
            "Epochs: 14 | Loss:  0.010 | Accuracy:  0.969\n"
          ]
        },
        {
          "name": "stderr",
          "output_type": "stream",
          "text": [
            "100%|██████████| 1/1 [00:00<00:00,  8.85it/s]\n"
          ]
        },
        {
          "name": "stdout",
          "output_type": "stream",
          "text": [
            "Epochs: 15 | Loss:  0.008 | Accuracy:  0.969\n"
          ]
        },
        {
          "name": "stderr",
          "output_type": "stream",
          "text": [
            "100%|██████████| 1/1 [00:00<00:00,  8.02it/s]\n"
          ]
        },
        {
          "name": "stdout",
          "output_type": "stream",
          "text": [
            "Epochs: 16 | Loss:  0.007 | Accuracy:  1.000\n"
          ]
        },
        {
          "name": "stderr",
          "output_type": "stream",
          "text": [
            "100%|██████████| 1/1 [00:00<00:00,  8.66it/s]\n"
          ]
        },
        {
          "name": "stdout",
          "output_type": "stream",
          "text": [
            "Epochs: 17 | Loss:  0.007 | Accuracy:  1.000\n"
          ]
        },
        {
          "name": "stderr",
          "output_type": "stream",
          "text": [
            "100%|██████████| 1/1 [00:00<00:00,  8.37it/s]\n"
          ]
        },
        {
          "name": "stdout",
          "output_type": "stream",
          "text": [
            "Epochs: 18 | Loss:  0.006 | Accuracy:  1.000\n"
          ]
        },
        {
          "name": "stderr",
          "output_type": "stream",
          "text": [
            "100%|██████████| 1/1 [00:00<00:00,  8.56it/s]\n"
          ]
        },
        {
          "name": "stdout",
          "output_type": "stream",
          "text": [
            "Epochs: 19 | Loss:  0.005 | Accuracy:  1.000\n"
          ]
        },
        {
          "name": "stderr",
          "output_type": "stream",
          "text": [
            "100%|██████████| 1/1 [00:00<00:00,  8.69it/s]\n"
          ]
        },
        {
          "name": "stdout",
          "output_type": "stream",
          "text": [
            "Epochs: 20 | Loss:  0.004 | Accuracy:  1.000\n",
            "--------------------------------------------------------\n",
            "Training on 64 samples\n",
            "--------------------------------------------------------\n"
          ]
        },
        {
          "name": "stderr",
          "output_type": "stream",
          "text": [
            "100%|██████████| 2/2 [00:00<00:00, 11.88it/s]\n"
          ]
        },
        {
          "name": "stdout",
          "output_type": "stream",
          "text": [
            "Epochs: 1 | Loss:  0.023 | Accuracy:  0.531\n"
          ]
        },
        {
          "name": "stderr",
          "output_type": "stream",
          "text": [
            "100%|██████████| 2/2 [00:00<00:00, 12.29it/s]\n"
          ]
        },
        {
          "name": "stdout",
          "output_type": "stream",
          "text": [
            "Epochs: 2 | Loss:  0.020 | Accuracy:  0.609\n"
          ]
        },
        {
          "name": "stderr",
          "output_type": "stream",
          "text": [
            "100%|██████████| 2/2 [00:00<00:00, 12.24it/s]\n"
          ]
        },
        {
          "name": "stdout",
          "output_type": "stream",
          "text": [
            "Epochs: 3 | Loss:  0.020 | Accuracy:  0.594\n"
          ]
        },
        {
          "name": "stderr",
          "output_type": "stream",
          "text": [
            "100%|██████████| 2/2 [00:00<00:00, 12.28it/s]\n"
          ]
        },
        {
          "name": "stdout",
          "output_type": "stream",
          "text": [
            "Epochs: 4 | Loss:  0.019 | Accuracy:  0.672\n"
          ]
        },
        {
          "name": "stderr",
          "output_type": "stream",
          "text": [
            "100%|██████████| 2/2 [00:00<00:00, 13.18it/s]\n"
          ]
        },
        {
          "name": "stdout",
          "output_type": "stream",
          "text": [
            "Epochs: 5 | Loss:  0.018 | Accuracy:  0.734\n"
          ]
        },
        {
          "name": "stderr",
          "output_type": "stream",
          "text": [
            "100%|██████████| 2/2 [00:00<00:00, 13.07it/s]\n"
          ]
        },
        {
          "name": "stdout",
          "output_type": "stream",
          "text": [
            "Epochs: 6 | Loss:  0.016 | Accuracy:  0.812\n"
          ]
        },
        {
          "name": "stderr",
          "output_type": "stream",
          "text": [
            "100%|██████████| 2/2 [00:00<00:00, 12.65it/s]\n"
          ]
        },
        {
          "name": "stdout",
          "output_type": "stream",
          "text": [
            "Epochs: 7 | Loss:  0.016 | Accuracy:  0.844\n"
          ]
        },
        {
          "name": "stderr",
          "output_type": "stream",
          "text": [
            "100%|██████████| 2/2 [00:00<00:00, 13.18it/s]\n"
          ]
        },
        {
          "name": "stdout",
          "output_type": "stream",
          "text": [
            "Epochs: 8 | Loss:  0.014 | Accuracy:  0.906\n"
          ]
        },
        {
          "name": "stderr",
          "output_type": "stream",
          "text": [
            "100%|██████████| 2/2 [00:00<00:00, 13.17it/s]\n"
          ]
        },
        {
          "name": "stdout",
          "output_type": "stream",
          "text": [
            "Epochs: 9 | Loss:  0.013 | Accuracy:  0.906\n"
          ]
        },
        {
          "name": "stderr",
          "output_type": "stream",
          "text": [
            "100%|██████████| 2/2 [00:00<00:00, 12.55it/s]\n"
          ]
        },
        {
          "name": "stdout",
          "output_type": "stream",
          "text": [
            "Epochs: 10 | Loss:  0.012 | Accuracy:  0.938\n"
          ]
        },
        {
          "name": "stderr",
          "output_type": "stream",
          "text": [
            "100%|██████████| 2/2 [00:00<00:00, 13.42it/s]\n"
          ]
        },
        {
          "name": "stdout",
          "output_type": "stream",
          "text": [
            "Epochs: 11 | Loss:  0.011 | Accuracy:  0.938\n"
          ]
        },
        {
          "name": "stderr",
          "output_type": "stream",
          "text": [
            "100%|██████████| 2/2 [00:00<00:00, 13.37it/s]\n"
          ]
        },
        {
          "name": "stdout",
          "output_type": "stream",
          "text": [
            "Epochs: 12 | Loss:  0.009 | Accuracy:  0.953\n"
          ]
        },
        {
          "name": "stderr",
          "output_type": "stream",
          "text": [
            "100%|██████████| 2/2 [00:00<00:00, 12.70it/s]\n"
          ]
        },
        {
          "name": "stdout",
          "output_type": "stream",
          "text": [
            "Epochs: 13 | Loss:  0.008 | Accuracy:  0.984\n"
          ]
        },
        {
          "name": "stderr",
          "output_type": "stream",
          "text": [
            "100%|██████████| 2/2 [00:00<00:00, 13.29it/s]\n"
          ]
        },
        {
          "name": "stdout",
          "output_type": "stream",
          "text": [
            "Epochs: 14 | Loss:  0.006 | Accuracy:  0.984\n"
          ]
        },
        {
          "name": "stderr",
          "output_type": "stream",
          "text": [
            "100%|██████████| 2/2 [00:00<00:00, 12.43it/s]\n"
          ]
        },
        {
          "name": "stdout",
          "output_type": "stream",
          "text": [
            "Epochs: 15 | Loss:  0.005 | Accuracy:  1.000\n"
          ]
        },
        {
          "name": "stderr",
          "output_type": "stream",
          "text": [
            "100%|██████████| 2/2 [00:00<00:00, 13.02it/s]\n"
          ]
        },
        {
          "name": "stdout",
          "output_type": "stream",
          "text": [
            "Epochs: 16 | Loss:  0.004 | Accuracy:  1.000\n"
          ]
        },
        {
          "name": "stderr",
          "output_type": "stream",
          "text": [
            "100%|██████████| 2/2 [00:00<00:00, 13.13it/s]\n"
          ]
        },
        {
          "name": "stdout",
          "output_type": "stream",
          "text": [
            "Epochs: 17 | Loss:  0.003 | Accuracy:  1.000\n"
          ]
        },
        {
          "name": "stderr",
          "output_type": "stream",
          "text": [
            "100%|██████████| 2/2 [00:00<00:00, 12.93it/s]\n"
          ]
        },
        {
          "name": "stdout",
          "output_type": "stream",
          "text": [
            "Epochs: 18 | Loss:  0.002 | Accuracy:  0.984\n"
          ]
        },
        {
          "name": "stderr",
          "output_type": "stream",
          "text": [
            "100%|██████████| 2/2 [00:00<00:00, 11.79it/s]\n"
          ]
        },
        {
          "name": "stdout",
          "output_type": "stream",
          "text": [
            "Epochs: 19 | Loss:  0.001 | Accuracy:  1.000\n"
          ]
        },
        {
          "name": "stderr",
          "output_type": "stream",
          "text": [
            "100%|██████████| 2/2 [00:00<00:00, 13.98it/s]\n"
          ]
        },
        {
          "name": "stdout",
          "output_type": "stream",
          "text": [
            "Epochs: 20 | Loss:  0.001 | Accuracy:  1.000\n",
            "--------------------------------------------------------\n",
            "Training on 128 samples\n",
            "--------------------------------------------------------\n"
          ]
        },
        {
          "name": "stderr",
          "output_type": "stream",
          "text": [
            "100%|██████████| 4/4 [00:00<00:00, 19.86it/s]\n"
          ]
        },
        {
          "name": "stdout",
          "output_type": "stream",
          "text": [
            "Epochs: 1 | Loss:  0.025 | Accuracy:  0.477\n"
          ]
        },
        {
          "name": "stderr",
          "output_type": "stream",
          "text": [
            "100%|██████████| 4/4 [00:00<00:00, 20.50it/s]\n"
          ]
        },
        {
          "name": "stdout",
          "output_type": "stream",
          "text": [
            "Epochs: 2 | Loss:  0.023 | Accuracy:  0.523\n"
          ]
        },
        {
          "name": "stderr",
          "output_type": "stream",
          "text": [
            "100%|██████████| 4/4 [00:00<00:00, 21.41it/s]\n"
          ]
        },
        {
          "name": "stdout",
          "output_type": "stream",
          "text": [
            "Epochs: 3 | Loss:  0.022 | Accuracy:  0.602\n"
          ]
        },
        {
          "name": "stderr",
          "output_type": "stream",
          "text": [
            "100%|██████████| 4/4 [00:00<00:00, 21.67it/s]\n"
          ]
        },
        {
          "name": "stdout",
          "output_type": "stream",
          "text": [
            "Epochs: 4 | Loss:  0.020 | Accuracy:  0.602\n"
          ]
        },
        {
          "name": "stderr",
          "output_type": "stream",
          "text": [
            "100%|██████████| 4/4 [00:00<00:00, 21.97it/s]\n"
          ]
        },
        {
          "name": "stdout",
          "output_type": "stream",
          "text": [
            "Epochs: 5 | Loss:  0.019 | Accuracy:  0.703\n"
          ]
        },
        {
          "name": "stderr",
          "output_type": "stream",
          "text": [
            "100%|██████████| 4/4 [00:00<00:00, 22.19it/s]\n"
          ]
        },
        {
          "name": "stdout",
          "output_type": "stream",
          "text": [
            "Epochs: 6 | Loss:  0.017 | Accuracy:  0.742\n"
          ]
        },
        {
          "name": "stderr",
          "output_type": "stream",
          "text": [
            "100%|██████████| 4/4 [00:00<00:00, 20.71it/s]\n"
          ]
        },
        {
          "name": "stdout",
          "output_type": "stream",
          "text": [
            "Epochs: 7 | Loss:  0.016 | Accuracy:  0.805\n"
          ]
        },
        {
          "name": "stderr",
          "output_type": "stream",
          "text": [
            "100%|██████████| 4/4 [00:00<00:00, 21.56it/s]\n"
          ]
        },
        {
          "name": "stdout",
          "output_type": "stream",
          "text": [
            "Epochs: 8 | Loss:  0.015 | Accuracy:  0.844\n"
          ]
        },
        {
          "name": "stderr",
          "output_type": "stream",
          "text": [
            "100%|██████████| 4/4 [00:00<00:00, 21.09it/s]\n"
          ]
        },
        {
          "name": "stdout",
          "output_type": "stream",
          "text": [
            "Epochs: 9 | Loss:  0.013 | Accuracy:  0.852\n"
          ]
        },
        {
          "name": "stderr",
          "output_type": "stream",
          "text": [
            "100%|██████████| 4/4 [00:00<00:00, 20.84it/s]\n"
          ]
        },
        {
          "name": "stdout",
          "output_type": "stream",
          "text": [
            "Epochs: 10 | Loss:  0.010 | Accuracy:  0.945\n"
          ]
        },
        {
          "name": "stderr",
          "output_type": "stream",
          "text": [
            "100%|██████████| 4/4 [00:00<00:00, 15.24it/s]\n"
          ]
        },
        {
          "name": "stdout",
          "output_type": "stream",
          "text": [
            "Epochs: 11 | Loss:  0.009 | Accuracy:  0.930\n"
          ]
        },
        {
          "name": "stderr",
          "output_type": "stream",
          "text": [
            "100%|██████████| 4/4 [00:00<00:00, 14.14it/s]\n"
          ]
        },
        {
          "name": "stdout",
          "output_type": "stream",
          "text": [
            "Epochs: 12 | Loss:  0.006 | Accuracy:  0.961\n"
          ]
        },
        {
          "name": "stderr",
          "output_type": "stream",
          "text": [
            "100%|██████████| 4/4 [00:00<00:00, 15.61it/s]\n"
          ]
        },
        {
          "name": "stdout",
          "output_type": "stream",
          "text": [
            "Epochs: 13 | Loss:  0.005 | Accuracy:  0.969\n"
          ]
        },
        {
          "name": "stderr",
          "output_type": "stream",
          "text": [
            "100%|██████████| 4/4 [00:00<00:00, 14.89it/s]\n"
          ]
        },
        {
          "name": "stdout",
          "output_type": "stream",
          "text": [
            "Epochs: 14 | Loss:  0.003 | Accuracy:  0.992\n"
          ]
        },
        {
          "name": "stderr",
          "output_type": "stream",
          "text": [
            "100%|██████████| 4/4 [00:00<00:00, 13.88it/s]\n"
          ]
        },
        {
          "name": "stdout",
          "output_type": "stream",
          "text": [
            "Epochs: 15 | Loss:  0.002 | Accuracy:  0.992\n"
          ]
        },
        {
          "name": "stderr",
          "output_type": "stream",
          "text": [
            "100%|██████████| 4/4 [00:00<00:00, 14.51it/s]\n"
          ]
        },
        {
          "name": "stdout",
          "output_type": "stream",
          "text": [
            "Epochs: 16 | Loss:  0.001 | Accuracy:  1.000\n"
          ]
        },
        {
          "name": "stderr",
          "output_type": "stream",
          "text": [
            "100%|██████████| 4/4 [00:00<00:00, 13.60it/s]\n"
          ]
        },
        {
          "name": "stdout",
          "output_type": "stream",
          "text": [
            "Epochs: 17 | Loss:  0.001 | Accuracy:  0.992\n"
          ]
        },
        {
          "name": "stderr",
          "output_type": "stream",
          "text": [
            "100%|██████████| 4/4 [00:00<00:00, 13.82it/s]\n"
          ]
        },
        {
          "name": "stdout",
          "output_type": "stream",
          "text": [
            "Epochs: 18 | Loss:  0.000 | Accuracy:  1.000\n"
          ]
        },
        {
          "name": "stderr",
          "output_type": "stream",
          "text": [
            "100%|██████████| 4/4 [00:00<00:00, 14.98it/s]\n"
          ]
        },
        {
          "name": "stdout",
          "output_type": "stream",
          "text": [
            "Epochs: 19 | Loss:  0.000 | Accuracy:  1.000\n"
          ]
        },
        {
          "name": "stderr",
          "output_type": "stream",
          "text": [
            "100%|██████████| 4/4 [00:00<00:00, 14.76it/s]\n"
          ]
        },
        {
          "name": "stdout",
          "output_type": "stream",
          "text": [
            "Epochs: 20 | Loss:  0.004 | Accuracy:  0.945\n",
            "--------------------------------------------------------\n",
            "Training on 256 samples\n",
            "--------------------------------------------------------\n"
          ]
        },
        {
          "name": "stderr",
          "output_type": "stream",
          "text": [
            "100%|██████████| 8/8 [00:00<00:00, 21.75it/s]\n"
          ]
        },
        {
          "name": "stdout",
          "output_type": "stream",
          "text": [
            "Epochs: 1 | Loss:  0.025 | Accuracy:  0.453\n"
          ]
        },
        {
          "name": "stderr",
          "output_type": "stream",
          "text": [
            "100%|██████████| 8/8 [00:00<00:00, 22.19it/s]\n"
          ]
        },
        {
          "name": "stdout",
          "output_type": "stream",
          "text": [
            "Epochs: 2 | Loss:  0.022 | Accuracy:  0.523\n"
          ]
        },
        {
          "name": "stderr",
          "output_type": "stream",
          "text": [
            "100%|██████████| 8/8 [00:00<00:00, 23.00it/s]\n"
          ]
        },
        {
          "name": "stdout",
          "output_type": "stream",
          "text": [
            "Epochs: 3 | Loss:  0.021 | Accuracy:  0.598\n"
          ]
        },
        {
          "name": "stderr",
          "output_type": "stream",
          "text": [
            "100%|██████████| 8/8 [00:00<00:00, 21.26it/s]\n"
          ]
        },
        {
          "name": "stdout",
          "output_type": "stream",
          "text": [
            "Epochs: 4 | Loss:  0.020 | Accuracy:  0.645\n"
          ]
        },
        {
          "name": "stderr",
          "output_type": "stream",
          "text": [
            "100%|██████████| 8/8 [00:00<00:00, 20.62it/s]\n"
          ]
        },
        {
          "name": "stdout",
          "output_type": "stream",
          "text": [
            "Epochs: 5 | Loss:  0.018 | Accuracy:  0.711\n"
          ]
        },
        {
          "name": "stderr",
          "output_type": "stream",
          "text": [
            "100%|██████████| 8/8 [00:00<00:00, 12.56it/s]\n"
          ]
        },
        {
          "name": "stdout",
          "output_type": "stream",
          "text": [
            "Epochs: 6 | Loss:  0.016 | Accuracy:  0.789\n"
          ]
        },
        {
          "name": "stderr",
          "output_type": "stream",
          "text": [
            "100%|██████████| 8/8 [00:00<00:00, 21.38it/s]\n"
          ]
        },
        {
          "name": "stdout",
          "output_type": "stream",
          "text": [
            "Epochs: 7 | Loss:  0.013 | Accuracy:  0.848\n"
          ]
        },
        {
          "name": "stderr",
          "output_type": "stream",
          "text": [
            "100%|██████████| 8/8 [00:00<00:00, 30.50it/s]\n"
          ]
        },
        {
          "name": "stdout",
          "output_type": "stream",
          "text": [
            "Epochs: 8 | Loss:  0.010 | Accuracy:  0.906\n"
          ]
        },
        {
          "name": "stderr",
          "output_type": "stream",
          "text": [
            "100%|██████████| 8/8 [00:00<00:00, 31.02it/s]\n"
          ]
        },
        {
          "name": "stdout",
          "output_type": "stream",
          "text": [
            "Epochs: 9 | Loss:  0.006 | Accuracy:  0.961\n"
          ]
        },
        {
          "name": "stderr",
          "output_type": "stream",
          "text": [
            "100%|██████████| 8/8 [00:00<00:00, 29.94it/s]\n"
          ]
        },
        {
          "name": "stdout",
          "output_type": "stream",
          "text": [
            "Epochs: 10 | Loss:  0.003 | Accuracy:  0.969\n"
          ]
        },
        {
          "name": "stderr",
          "output_type": "stream",
          "text": [
            "100%|██████████| 8/8 [00:00<00:00, 31.69it/s]\n"
          ]
        },
        {
          "name": "stdout",
          "output_type": "stream",
          "text": [
            "Epochs: 11 | Loss:  0.002 | Accuracy:  0.980\n"
          ]
        },
        {
          "name": "stderr",
          "output_type": "stream",
          "text": [
            "100%|██████████| 8/8 [00:00<00:00, 32.26it/s]\n"
          ]
        },
        {
          "name": "stdout",
          "output_type": "stream",
          "text": [
            "Epochs: 12 | Loss:  0.001 | Accuracy:  0.992\n"
          ]
        },
        {
          "name": "stderr",
          "output_type": "stream",
          "text": [
            "100%|██████████| 8/8 [00:00<00:00, 32.43it/s]\n"
          ]
        },
        {
          "name": "stdout",
          "output_type": "stream",
          "text": [
            "Epochs: 13 | Loss:  0.000 | Accuracy:  1.000\n"
          ]
        },
        {
          "name": "stderr",
          "output_type": "stream",
          "text": [
            "100%|██████████| 8/8 [00:00<00:00, 30.32it/s]\n"
          ]
        },
        {
          "name": "stdout",
          "output_type": "stream",
          "text": [
            "Epochs: 14 | Loss:  0.001 | Accuracy:  0.996\n"
          ]
        },
        {
          "name": "stderr",
          "output_type": "stream",
          "text": [
            "100%|██████████| 8/8 [00:00<00:00, 27.81it/s]\n"
          ]
        },
        {
          "name": "stdout",
          "output_type": "stream",
          "text": [
            "Epochs: 15 | Loss:  0.005 | Accuracy:  0.949\n"
          ]
        },
        {
          "name": "stderr",
          "output_type": "stream",
          "text": [
            "100%|██████████| 8/8 [00:00<00:00, 30.02it/s]\n"
          ]
        },
        {
          "name": "stdout",
          "output_type": "stream",
          "text": [
            "Epochs: 16 | Loss:  0.001 | Accuracy:  0.988\n"
          ]
        },
        {
          "name": "stderr",
          "output_type": "stream",
          "text": [
            "100%|██████████| 8/8 [00:00<00:00, 30.75it/s]\n"
          ]
        },
        {
          "name": "stdout",
          "output_type": "stream",
          "text": [
            "Epochs: 17 | Loss:  0.000 | Accuracy:  0.996\n"
          ]
        },
        {
          "name": "stderr",
          "output_type": "stream",
          "text": [
            "100%|██████████| 8/8 [00:00<00:00, 30.08it/s]\n"
          ]
        },
        {
          "name": "stdout",
          "output_type": "stream",
          "text": [
            "Epochs: 18 | Loss:  0.002 | Accuracy:  0.980\n"
          ]
        },
        {
          "name": "stderr",
          "output_type": "stream",
          "text": [
            "100%|██████████| 8/8 [00:00<00:00, 31.59it/s]\n"
          ]
        },
        {
          "name": "stdout",
          "output_type": "stream",
          "text": [
            "Epochs: 19 | Loss:  0.003 | Accuracy:  0.977\n"
          ]
        },
        {
          "name": "stderr",
          "output_type": "stream",
          "text": [
            "100%|██████████| 8/8 [00:00<00:00, 31.38it/s]\n"
          ]
        },
        {
          "name": "stdout",
          "output_type": "stream",
          "text": [
            "Epochs: 20 | Loss:  0.001 | Accuracy:  0.992\n",
            "--------------------------------------------------------\n",
            "Training on 512 samples\n",
            "--------------------------------------------------------\n"
          ]
        },
        {
          "name": "stderr",
          "output_type": "stream",
          "text": [
            "100%|██████████| 16/16 [00:00<00:00, 33.89it/s]\n"
          ]
        },
        {
          "name": "stdout",
          "output_type": "stream",
          "text": [
            "Epochs: 1 | Loss:  0.024 | Accuracy:  0.465\n"
          ]
        },
        {
          "name": "stderr",
          "output_type": "stream",
          "text": [
            "100%|██████████| 16/16 [00:00<00:00, 38.83it/s]\n"
          ]
        },
        {
          "name": "stdout",
          "output_type": "stream",
          "text": [
            "Epochs: 2 | Loss:  0.022 | Accuracy:  0.549\n"
          ]
        },
        {
          "name": "stderr",
          "output_type": "stream",
          "text": [
            "100%|██████████| 16/16 [00:00<00:00, 39.28it/s]\n"
          ]
        },
        {
          "name": "stdout",
          "output_type": "stream",
          "text": [
            "Epochs: 3 | Loss:  0.020 | Accuracy:  0.627\n"
          ]
        },
        {
          "name": "stderr",
          "output_type": "stream",
          "text": [
            "100%|██████████| 16/16 [00:00<00:00, 40.14it/s]\n"
          ]
        },
        {
          "name": "stdout",
          "output_type": "stream",
          "text": [
            "Epochs: 4 | Loss:  0.018 | Accuracy:  0.695\n"
          ]
        },
        {
          "name": "stderr",
          "output_type": "stream",
          "text": [
            "100%|██████████| 16/16 [00:00<00:00, 40.90it/s]\n"
          ]
        },
        {
          "name": "stdout",
          "output_type": "stream",
          "text": [
            "Epochs: 5 | Loss:  0.016 | Accuracy:  0.770\n"
          ]
        },
        {
          "name": "stderr",
          "output_type": "stream",
          "text": [
            "100%|██████████| 16/16 [00:00<00:00, 40.20it/s]\n"
          ]
        },
        {
          "name": "stdout",
          "output_type": "stream",
          "text": [
            "Epochs: 6 | Loss:  0.013 | Accuracy:  0.828\n"
          ]
        },
        {
          "name": "stderr",
          "output_type": "stream",
          "text": [
            "100%|██████████| 16/16 [00:00<00:00, 40.25it/s]\n"
          ]
        },
        {
          "name": "stdout",
          "output_type": "stream",
          "text": [
            "Epochs: 7 | Loss:  0.010 | Accuracy:  0.865\n"
          ]
        },
        {
          "name": "stderr",
          "output_type": "stream",
          "text": [
            "100%|██████████| 16/16 [00:00<00:00, 40.88it/s]\n"
          ]
        },
        {
          "name": "stdout",
          "output_type": "stream",
          "text": [
            "Epochs: 8 | Loss:  0.007 | Accuracy:  0.918\n"
          ]
        },
        {
          "name": "stderr",
          "output_type": "stream",
          "text": [
            "100%|██████████| 16/16 [00:00<00:00, 41.22it/s]\n"
          ]
        },
        {
          "name": "stdout",
          "output_type": "stream",
          "text": [
            "Epochs: 9 | Loss:  0.004 | Accuracy:  0.949\n"
          ]
        },
        {
          "name": "stderr",
          "output_type": "stream",
          "text": [
            "100%|██████████| 16/16 [00:00<00:00, 33.52it/s]\n"
          ]
        },
        {
          "name": "stdout",
          "output_type": "stream",
          "text": [
            "Epochs: 10 | Loss:  0.002 | Accuracy:  0.982\n"
          ]
        },
        {
          "name": "stderr",
          "output_type": "stream",
          "text": [
            "100%|██████████| 16/16 [00:00<00:00, 28.60it/s]\n"
          ]
        },
        {
          "name": "stdout",
          "output_type": "stream",
          "text": [
            "Epochs: 11 | Loss:  0.002 | Accuracy:  0.979\n"
          ]
        },
        {
          "name": "stderr",
          "output_type": "stream",
          "text": [
            "100%|██████████| 16/16 [00:00<00:00, 26.52it/s]\n"
          ]
        },
        {
          "name": "stdout",
          "output_type": "stream",
          "text": [
            "Epochs: 12 | Loss:  0.002 | Accuracy:  0.979\n"
          ]
        },
        {
          "name": "stderr",
          "output_type": "stream",
          "text": [
            "100%|██████████| 16/16 [00:00<00:00, 28.35it/s]\n"
          ]
        },
        {
          "name": "stdout",
          "output_type": "stream",
          "text": [
            "Epochs: 13 | Loss:  0.003 | Accuracy:  0.973\n"
          ]
        },
        {
          "name": "stderr",
          "output_type": "stream",
          "text": [
            "100%|██████████| 16/16 [00:00<00:00, 27.58it/s]\n"
          ]
        },
        {
          "name": "stdout",
          "output_type": "stream",
          "text": [
            "Epochs: 14 | Loss:  0.001 | Accuracy:  0.994\n"
          ]
        },
        {
          "name": "stderr",
          "output_type": "stream",
          "text": [
            "100%|██████████| 16/16 [00:00<00:00, 28.38it/s]\n"
          ]
        },
        {
          "name": "stdout",
          "output_type": "stream",
          "text": [
            "Epochs: 15 | Loss:  0.001 | Accuracy:  0.977\n"
          ]
        },
        {
          "name": "stderr",
          "output_type": "stream",
          "text": [
            "100%|██████████| 16/16 [00:00<00:00, 32.31it/s]\n"
          ]
        },
        {
          "name": "stdout",
          "output_type": "stream",
          "text": [
            "Epochs: 16 | Loss:  0.002 | Accuracy:  0.977\n"
          ]
        },
        {
          "name": "stderr",
          "output_type": "stream",
          "text": [
            "100%|██████████| 16/16 [00:00<00:00, 27.38it/s]\n"
          ]
        },
        {
          "name": "stdout",
          "output_type": "stream",
          "text": [
            "Epochs: 17 | Loss:  0.004 | Accuracy:  0.965\n"
          ]
        },
        {
          "name": "stderr",
          "output_type": "stream",
          "text": [
            "100%|██████████| 16/16 [00:00<00:00, 28.51it/s]\n"
          ]
        },
        {
          "name": "stdout",
          "output_type": "stream",
          "text": [
            "Epochs: 18 | Loss:  0.004 | Accuracy:  0.961\n"
          ]
        },
        {
          "name": "stderr",
          "output_type": "stream",
          "text": [
            "100%|██████████| 16/16 [00:00<00:00, 31.60it/s]\n"
          ]
        },
        {
          "name": "stdout",
          "output_type": "stream",
          "text": [
            "Epochs: 19 | Loss:  0.003 | Accuracy:  0.973\n"
          ]
        },
        {
          "name": "stderr",
          "output_type": "stream",
          "text": [
            "100%|██████████| 16/16 [00:00<00:00, 31.89it/s]\n"
          ]
        },
        {
          "name": "stdout",
          "output_type": "stream",
          "text": [
            "Epochs: 20 | Loss:  0.003 | Accuracy:  0.967\n",
            "--------------------------------------------------------\n",
            "Evaluating model trained on 16 samples\n",
            "--------------------------------------------------------\n"
          ]
        },
        {
          "name": "stderr",
          "output_type": "stream",
          "text": [
            "100%|██████████| 47/47 [00:00<00:00, 91.59it/s] \n"
          ]
        },
        {
          "name": "stdout",
          "output_type": "stream",
          "text": [
            "\n",
            " Accuracy on test set = 0.479\n",
            "--------------------------------------------------------\n",
            "Evaluating model trained on 32 samples\n",
            "--------------------------------------------------------\n"
          ]
        },
        {
          "name": "stderr",
          "output_type": "stream",
          "text": [
            "100%|██████████| 47/47 [00:00<00:00, 94.19it/s] \n"
          ]
        },
        {
          "name": "stdout",
          "output_type": "stream",
          "text": [
            "\n",
            " Accuracy on test set = 0.494\n",
            "--------------------------------------------------------\n",
            "Evaluating model trained on 64 samples\n",
            "--------------------------------------------------------\n"
          ]
        },
        {
          "name": "stderr",
          "output_type": "stream",
          "text": [
            "100%|██████████| 47/47 [00:00<00:00, 56.68it/s]\n"
          ]
        },
        {
          "name": "stdout",
          "output_type": "stream",
          "text": [
            "\n",
            " Accuracy on test set = 0.517\n",
            "--------------------------------------------------------\n",
            "Evaluating model trained on 128 samples\n",
            "--------------------------------------------------------\n"
          ]
        },
        {
          "name": "stderr",
          "output_type": "stream",
          "text": [
            "100%|██████████| 47/47 [00:00<00:00, 93.59it/s] \n"
          ]
        },
        {
          "name": "stdout",
          "output_type": "stream",
          "text": [
            "\n",
            " Accuracy on test set = 0.491\n",
            "--------------------------------------------------------\n",
            "Evaluating model trained on 256 samples\n",
            "--------------------------------------------------------\n"
          ]
        },
        {
          "name": "stderr",
          "output_type": "stream",
          "text": [
            "100%|██████████| 47/47 [00:00<00:00, 89.38it/s] \n"
          ]
        },
        {
          "name": "stdout",
          "output_type": "stream",
          "text": [
            "\n",
            " Accuracy on test set = 0.511\n",
            "--------------------------------------------------------\n",
            "Evaluating model trained on 512 samples\n",
            "--------------------------------------------------------\n"
          ]
        },
        {
          "name": "stderr",
          "output_type": "stream",
          "text": [
            "100%|██████████| 47/47 [00:00<00:00, 52.90it/s]"
          ]
        },
        {
          "name": "stdout",
          "output_type": "stream",
          "text": [
            "\n",
            " Accuracy on test set = 0.511\n"
          ]
        },
        {
          "name": "stderr",
          "output_type": "stream",
          "text": [
            "\n"
          ]
        }
      ],
      "source": [
        "#Train loop\n",
        "train_sets = {}\n",
        "models = {}\n",
        "for sz in sizes:\n",
        "    train_sets[sz], test_set = train_test_split(documents, sz)\n",
        "    models[sz] = NoPretrainingTransformer(src_vocab_size, d_model, d_ff, num_heads, num_layers, max_length)\n",
        "    print('-' * 56)\n",
        "    print(f'Training on {sz} samples')\n",
        "    print('-' * 56)\n",
        "    train_classifier(models[sz], train_sets[sz], sp_model, finetune_epochs, lr, batch_size)\n",
        "\n",
        "#Evaluation loop\n",
        "with torch.no_grad():\n",
        "    for sz in models:\n",
        "        print('-' * 56)\n",
        "        print(f'Evaluating model trained on {sz} samples')\n",
        "        print('-' * 56)\n",
        "        test_accuracy = eval_classifier(models[sz], test_set, sp_model, batch_size)\n",
        "        without_PreTraining_list.append(test_accuracy)\n",
        "        print(\"\\n Accuracy on test set = %.3f\" % test_accuracy)"
      ]
    },
    {
      "cell_type": "code",
      "execution_count": 47,
      "metadata": {
        "id": "HGV0Jzr_6Z2N"
      },
      "outputs": [],
      "source": [
        "def train_classifier(model, dataset, sp_model, epochs, lr, bs):\n",
        "    criterion = nn.CrossEntropyLoss()\n",
        "    optimizer = torch.optim.Adam((p for p in model.parameters() if p.requires_grad), lr=lr)\n",
        "    train_dataset = TextDataset(dataset, sp_model)\n",
        "    train_dataloader = DataLoader(train_dataset, num_workers=1, batch_size=bs, collate_fn=collate_fn, shuffle=True)\n",
        "\n",
        "    # Training loop\n",
        "    for epoch in range(epochs):\n",
        "        total_loss_train = 0\n",
        "        total_acc_train = 0\n",
        "        num_pos = 0\n",
        "        for train_sequence, labels in tqdm(train_dataloader):\n",
        "            predictions = model(train_sequence.to(device))\n",
        "            preds = predictions[:, -1]\n",
        "            labels = labels.to(device)\n",
        "            loss = criterion(preds, labels)\n",
        "\n",
        "            # Calculate accuracy and loss per batch\n",
        "            correct = preds.argmax(axis=1) == labels\n",
        "            total_acc_train += correct.sum().item()\n",
        "            total_loss_train += loss.item()\n",
        "\n",
        "            # Backprop\n",
        "            loss.backward()\n",
        "            torch.nn.utils.clip_grad_norm_(model.parameters(), 0.5)\n",
        "            optimizer.step()\n",
        "\n",
        "        print(f'Epochs: {epoch + 1} | Loss: {total_loss_train / len(train_dataset): .3f} | Accuracy: {total_acc_train / len(train_dataset): .3f}')"
      ]
    },
    {
      "cell_type": "code",
      "execution_count": 48,
      "metadata": {
        "id": "MpAe2Sv_qUk8"
      },
      "outputs": [],
      "source": [
        "with_PreTraining_list = []"
      ]
    },
    {
      "cell_type": "code",
      "execution_count": null,
      "metadata": {
        "colab": {
          "base_uri": "https://localhost:8080/"
        },
        "id": "3E89aiVnL1HJ",
        "outputId": "e819ce65-f898-4c54-bc38-47cdbc0064e9"
      },
      "outputs": [],
      "source": [
        "lr = 1e-4\n",
        "batch_size = 64\n",
        "finetune_epochs = 20\n",
        "\n",
        "#Train loop\n",
        "train_sets = {}\n",
        "finetuned_models = {}\n",
        "for sz in sizes:\n",
        "    train_sets[sz], test_set = train_test_split(documents, sz)\n",
        "    pretrained = Transformer(src_vocab_size, tgt_vocab_size, d_model, num_heads, num_layers, d_ff, max_seq_length, dropout)\n",
        "    pretrained.load_state_dict(torch.load('/content/pretrained.pt'))\n",
        "    finetuned_models[sz] = pretrained\n",
        "    finetuned_models[sz].fc = nn.Linear(d_model, 2).to(device)\n",
        "    print('-' * 56)\n",
        "    print(f'Training on {2 * sz} samples')\n",
        "    print('-' * 56)\n",
        "    train_classifier(finetuned_models[sz], train_sets[sz], sp_model, finetune_epochs, lr, batch_size)"
      ]
    },
    {
      "cell_type": "code",
      "execution_count": 50,
      "metadata": {
        "id": "V2rWFXFG4QzL"
      },
      "outputs": [],
      "source": [
        "def eval_classifier(model, dataset, sp_model, bs):\n",
        "    criterion = nn.CrossEntropyLoss()\n",
        "    optimizer = torch.optim.Adam((p for p in model.parameters() if p.requires_grad), lr=lr)\n",
        "    test_dataset = TextDataset(dataset, sp_model)\n",
        "    test_dataloader = DataLoader(test_dataset, num_workers=1, batch_size=bs, collate_fn=collate_fn, shuffle=False)\n",
        "\n",
        "    total_acc = 0.\n",
        "    for sequence, labels in tqdm(test_dataloader):\n",
        "        predictions = model(sequence.to(device))\n",
        "        preds = predictions[:, -1]\n",
        "        labels = labels.to(device)\n",
        "        correct = preds.argmax(axis=1) == labels\n",
        "        total_acc += correct.sum().item()\n",
        "\n",
        "    return total_acc / len(test_dataset)"
      ]
    },
    {
      "cell_type": "code",
      "execution_count": null,
      "metadata": {
        "colab": {
          "base_uri": "https://localhost:8080/"
        },
        "id": "OlrpclAS6Vwi",
        "outputId": "f3ae3faf-cb2e-43f0-e007-e4d5dd5bdea3"
      },
      "outputs": [],
      "source": [
        "#Evaluation loop\n",
        "with torch.no_grad():\n",
        "    for sz in finetuned_models:\n",
        "        print('-' * 56)\n",
        "        print(f'Evaluating model trained on {sz} samples')\n",
        "        print('-' * 56)\n",
        "        test_accuracy = eval_classifier(finetuned_models[sz], test_set, sp_model, batch_size)\n",
        "        with_PreTraining_list.append(test_accuracy)\n",
        "        print(\"\\n Accuracy on test set = %.3f\" % test_accuracy)"
      ]
    },
    {
      "cell_type": "code",
      "execution_count": 52,
      "metadata": {
        "colab": {
          "base_uri": "https://localhost:8080/",
          "height": 472
        },
        "id": "86BKOIsZqitx",
        "outputId": "7cb47ce4-5e60-496e-cf7f-91ca399bf3d5"
      },
      "outputs": [
        {
          "data": {
            "image/png": "[encoded data removed]",
            "text/plain": [
              "<Figure size 640x480 with 1 Axes>"
            ]
          },
          "metadata": {},
          "output_type": "display_data"
        }
      ],
      "source": [
        "import matplotlib.pyplot as plt\n",
        "plt.plot(sizes, without_PreTraining_list, label=' Without Pre-training', color='blue', linestyle='-')\n",
        "plt.plot(sizes, with_PreTraining_list, label=' With Pre-training', color='red', linestyle='--')\n",
        "plt.title('Validation Accuracy Vs Training sizes - with/without pre-training')\n",
        "plt.xlabel('Training sizes')\n",
        "plt.ylabel('Validation Accuracy')\n",
        "plt.legend()\n",
        "plt.show()\n"
      ]
    }
  ],
  "metadata": {
    "accelerator": "GPU",
    "colab": {
      "gpuType": "T4",
      "provenance": []
    },
    "kernelspec": {
      "display_name": "Python 3",
      "name": "python3"
    },
    "language_info": {
      "name": "python"
    }
  },
  "nbformat": 4,
  "nbformat_minor": 0
}
